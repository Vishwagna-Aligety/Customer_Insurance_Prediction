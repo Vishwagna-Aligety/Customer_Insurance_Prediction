{
  "nbformat": 4,
  "nbformat_minor": 0,
  "metadata": {
    "colab": {
      "provenance": [],
      "authorship_tag": "ABX9TyNW+pKqKmXFrEgd+7vyqA3i",
      "include_colab_link": true
    },
    "kernelspec": {
      "name": "python3",
      "display_name": "Python 3"
    },
    "language_info": {
      "name": "python"
    }
  },
  "cells": [
    {
      "cell_type": "markdown",
      "metadata": {
        "id": "view-in-github",
        "colab_type": "text"
      },
      "source": [
        "<a href=\"https://colab.research.google.com/github/Vishwagna-Aligety/Customer_Insurance_Prediction/blob/main/Customer_Insurance_Purchase_Prediction.ipynb\" target=\"_parent\"><img src=\"https://colab.research.google.com/assets/colab-badge.svg\" alt=\"Open In Colab\"/></a>"
      ]
    },
    {
      "cell_type": "code",
      "source": [
        "# Customer Insurance Purchase Prediction\n",
        "\n",
        "# This project aims to predict whether a customer will purchase health insurance based on their age and estimated salary.\n",
        "# We will:\n",
        "# - Perform data preprocessing.\n",
        "# - Compare multiple machine learning classification algorithms.\n",
        "# - Select the best-performing model.\n",
        "# - Use the best model to predict insurance purchase for given scenarios.\n",
        "# - Provide graphical analysis for the predictions.\n",
        "# - Conclude with hypotheses testing and real-life applications."
      ],
      "metadata": {
        "id": "hdftLClvSDCa"
      },
      "execution_count": null,
      "outputs": []
    },
    {
      "cell_type": "code",
      "source": [
        "#  Import required libraries\n",
        "import pandas as pd\n",
        "import numpy as np\n",
        "import matplotlib.pyplot as plt\n",
        "import seaborn as sns\n",
        "\n",
        "from sklearn.model_selection import train_test_split\n",
        "from sklearn.preprocessing import StandardScaler\n",
        "from sklearn.metrics import accuracy_score, confusion_matrix, classification_report\n",
        "\n",
        "# Models\n",
        "from sklearn.linear_model import LogisticRegression\n",
        "from sklearn.neighbors import KNeighborsClassifier\n",
        "from sklearn.svm import SVC\n",
        "from sklearn.tree import DecisionTreeClassifier\n",
        "from sklearn.ensemble import RandomForestClassifier\n"
      ],
      "metadata": {
        "id": "WvLD12rsSJW4"
      },
      "execution_count": null,
      "outputs": []
    },
    {
      "cell_type": "code",
      "source": [
        "##  Step 1: Load Dataset\n",
        "#We use the provided dataset 'Social_Network_Ads.csv', which contains columns Age, EstimatedSalary, and Purchased.\n",
        "#The target variable `Purchased` indicates whether the customer bought insurance (1 = Yes, 0 = No).\n"
      ],
      "metadata": {
        "id": "yt3TtvLBSscS"
      },
      "execution_count": null,
      "outputs": []
    },
    {
      "cell_type": "code",
      "source": [
        "from google.colab import files\n",
        "uploaded = files.upload()\n",
        "\n",
        "df = pd.read_csv('Social_Network_Ads.csv')\n",
        "df.head()"
      ],
      "metadata": {
        "id": "vIhI92pQTB0b"
      },
      "execution_count": null,
      "outputs": []
    },
    {
      "cell_type": "code",
      "source": [
        "##  Step 2: Data Preprocessing\n",
        "#- Define features (Age, EstimatedSalary) and target (Purchased)\n",
        "#- Apply scaling to improve model performance\n",
        "#- Split data into training and testing sets"
      ],
      "metadata": {
        "id": "hRqJ5-Z7TKY1"
      },
      "execution_count": null,
      "outputs": []
    },
    {
      "cell_type": "code",
      "source": [
        "# Features & Target\n",
        "X = df[['Age', 'EstimatedSalary']]\n",
        "y = df['Purchased']\n",
        "\n",
        "# Feature Scaling\n",
        "sc = StandardScaler()\n",
        "X_scaled = sc.fit_transform(X)\n",
        "\n",
        "# Train-Test Split\n",
        "X_train, X_test, y_train, y_test = train_test_split(X_scaled, y, test_size=0.2, random_state=42)"
      ],
      "metadata": {
        "id": "ywQCP15NTNdt"
      },
      "execution_count": null,
      "outputs": []
    },
    {
      "cell_type": "code",
      "source": [
        "## Step 3: Model Training and Comparison\n",
        "# We train and compare five machine learning classification algorithms:\n",
        "# 1. Logistic Regression\n",
        "# 2. K-Nearest Neighbors (KNN)\n",
        "# 3. Support Vector Machine (SVM)\n",
        "# 4. Decision Tree\n",
        "# 5. Random Forest\n",
        "\n",
        "# We calculate and compare their accuracy to select the best model."
      ],
      "metadata": {
        "id": "pXzhkjLvTmrb"
      },
      "execution_count": null,
      "outputs": []
    },
    {
      "cell_type": "code",
      "source": [
        "models = {\n",
        "    \"Logistic Regression\": LogisticRegression(),\n",
        "    \"KNN\": KNeighborsClassifier(n_neighbors=5),\n",
        "    \"SVM\": SVC(kernel='linear'),\n",
        "    \"Decision Tree\": DecisionTreeClassifier(random_state=42),\n",
        "    \"Random Forest\": RandomForestClassifier(n_estimators=100, random_state=42)\n",
        "}\n",
        "\n",
        "accuracies = {}\n",
        "\n",
        "for name, model in models.items():\n",
        "    model.fit(X_train, y_train)\n",
        "    y_pred = model.predict(X_test)\n",
        "    acc = accuracy_score(y_test, y_pred)\n",
        "    accuracies[name] = acc\n",
        "    print(f\"\\n {name} Accuracy: {acc:.4f}\")\n",
        "    print(\"Confusion Matrix:\\n\", confusion_matrix(y_test, y_pred))\n",
        "    print(\"Classification Report:\\n\", classification_report(y_test, y_pred))\n",
        "\n",
        "print(\"\\nModel Comparison:\", accuracies)"
      ],
      "metadata": {
        "id": "ckHF3rCy4tMn"
      },
      "execution_count": null,
      "outputs": []
    },
    {
      "cell_type": "code",
      "source": [
        "best_model_name = max(accuracies, key=accuracies.get)\n",
        "best_model = models[best_model_name]\n",
        "print(f\"\\n Best Model: {best_model_name} with Accuracy {accuracies[best_model_name]:.2f}\")"
      ],
      "metadata": {
        "id": "DPKevW4s46Vq"
      },
      "execution_count": null,
      "outputs": []
    },
    {
      "cell_type": "code",
      "source": [
        "##  Step 4: Predictions for Given Scenarios\n",
        "# Using the best-performing model, we predict whether customers with given Age-Salary combinations will purchase insurance."
      ],
      "metadata": {
        "id": "YPbNgUzs498N"
      },
      "execution_count": null,
      "outputs": []
    },
    {
      "cell_type": "code",
      "source": [
        "def predict_best(age, salary):\n",
        "    # Transform the input data as a DataFrame to retain feature names\n",
        "    data = pd.DataFrame([[age, salary]], columns=['Age', 'EstimatedSalary'])\n",
        "    data_scaled = sc.transform(data)\n",
        "    pred = best_model.predict(data_scaled)[0]\n",
        "    return \" Purchased\" if pred == 1 else \" Not Purchased\"\n",
        "\n",
        "# Project Queries\n",
        "queries = [\n",
        "    (30, 87000),\n",
        "    (40, 0),\n",
        "    (40, 100000),\n",
        "    (50, 0),\n",
        "    (18, 0),\n",
        "    (22, 600000),\n",
        "    (35, 2500000),\n",
        "    (60, 100000000)\n",
        "]\n",
        "\n",
        "for age, salary in queries:\n",
        "    print(f\"Age {age}, Salary {salary} ->{predict_best(age, salary)}\")"
      ],
      "metadata": {
        "id": "_wvUgyeK5IcC"
      },
      "execution_count": null,
      "outputs": []
    },
    {
      "cell_type": "code",
      "source": [
        "from matplotlib.lines import Line2D\n",
        "\n",
        "#  Given queries divided into two sets\n",
        "queries_set1 = [\n",
        "    (30, 87000, \"Not Purchased\"),\n",
        "    (40, 0, \"Not Purchased\"),\n",
        "    (40, 100000, \"Purchased\"),\n",
        "    (50, 0, \"Purchased\")\n",
        "]\n",
        "\n",
        "queries_set2 = [\n",
        "    (18, 0, \"Not Purchased\"),\n",
        "    (22, 600000, \"Purchased\"),\n",
        "    (35, 2500000, \"Purchased\"),\n",
        "    (60, 100000000, \"Purchased\")\n",
        "]\n",
        "\n",
        "#  Universal Plot Function\n",
        "def plot_queries(query_set, title):\n",
        "    ages = [q[0] for q in query_set]\n",
        "    salaries = [q[1] if q[1] > 0 else 100 for q in query_set]  # avoid 0 in log\n",
        "    colors = ['red' if \"Not\" in q[2] else 'green' for q in query_set]\n",
        "\n",
        "    plt.figure(figsize=(8,6))\n",
        "    plt.scatter(ages, salaries, c=colors, s=120, edgecolors=\"black\")\n",
        "\n",
        "    #  Logarithmic scale & custom ticks\n",
        "    plt.yscale(\"log\")\n",
        "    plt.yticks([1e2, 1e3, 1e4, 1e5, 1e6, 1e7, 1e8],\n",
        "               ['100', '1K', '10K', '100K', '1M', '10M', '100M'])\n",
        "\n",
        "    plt.xlabel(\"Age\")\n",
        "    plt.ylabel(\"Estimated Salary (log scale)\")\n",
        "    plt.title(title)\n",
        "    plt.grid(True, which=\"both\", linestyle=\"--\", alpha=0.5)\n",
        "\n",
        "    #  Custom Legend\n",
        "    legend_elements = [\n",
        "        Line2D([0], [0], marker='o', color='w', label='Not Purchased',\n",
        "               markerfacecolor='red', markeredgecolor='black', markersize=10),\n",
        "        Line2D([0], [0], marker='o', color='w', label='Purchased',\n",
        "               markerfacecolor='green', markeredgecolor='black', markersize=10)\n",
        "    ]\n",
        "    plt.legend(handles=legend_elements, title=\"Prediction\")\n",
        "    plt.show()\n",
        "\n",
        "#  Generate both required plots\n",
        "plot_queries(queries_set1, \"Predicted Purchase Decisions - Set 1\")\n",
        "plot_queries(queries_set2, \"Predicted Purchase Decisions - Set 2\")"
      ],
      "metadata": {
        "id": "g53dUapS-eMh"
      },
      "execution_count": null,
      "outputs": []
    },
    {
      "cell_type": "code",
      "source": [
        "### Graphical Analysis – Set 1\n",
        "\n",
        "#The above graph visualizes the prediction results for the first set of queries.\n",
        "#- Red points indicate customers predicted not to purchase health insurance.\n",
        "#- Green points indicate customers predicted to purchase.\n",
        "\n",
        "#### Observations:\n",
        "#1. The 30-year-old with a salary of 87,000 is predicted Not Purchased.\n",
        "#2. The 40-year-old with no salary is also Not Purchased, indicating salary plays an important role.\n",
        "#3. The 40-year-old with a salary of 100,000 is Purchased, showing how salary influences the decision.\n",
        "#4. Interestingly, the 50-year-old with no salary is still predicted Purchased, suggesting that at higher ages, insurance purchase likelihood may increase regardless of salary.\n",
        "\n",
        "#These patterns suggest that younger customers need higher salaries to purchase insurance, while older customers may purchase even without high income."
      ],
      "metadata": {
        "id": "E2pTZB-wzGJR"
      },
      "execution_count": null,
      "outputs": []
    },
    {
      "cell_type": "code",
      "source": [
        "### Graphical Analysis – Set 2\n",
        "\n",
        "#This graph represents the predictions for the second set of age-salary scenarios.\n",
        "#The predictions again follow the same color coding:\n",
        "#- **Red points** → Not Purchased\n",
        "#- **Green points** → Purchased\n",
        "\n",
        "#### Observations:\n",
        "#1. The 18-year-old with no salary is predicted Not Purchased, confirming low income reduces likelihood.\n",
        "#2. The 22-year-old with a salary of 600,000 is **Purchased, showing high salary at a young age drives purchase.\n",
        "#3. The 35-year-old with a salary of 2,500,000 is also Purchased, as expected with such a high salary.\n",
        "#4. The 60-year-old with a salary of 100,000,000 is strongly predicted Purchased, aligning with both age and salary being strong factors.\n",
        "\n",
        "#The second analysis confirms that high salaries override the age factor and always lead to a purchase prediction."
      ],
      "metadata": {
        "id": "DvrHwCBwz0zV"
      },
      "execution_count": null,
      "outputs": []
    },
    {
      "cell_type": "code",
      "source": [
        "##  Step 5: Hypothesis Testing\n",
        "# We test hypotheses about how Age and Salary affect insurance purchase decisions using model predictions."
      ],
      "metadata": {
        "id": "095YDHUg5U0D"
      },
      "execution_count": null,
      "outputs": []
    },
    {
      "cell_type": "code",
      "source": [
        "# Hypothesis Testing Predictions\n",
        "print(\"Young with Low Salary:\", predict_best(25, 20000))\n",
        "print(\"Young with High Salary:\", predict_best(25, 200000))\n",
        "print(\"Older with Low Salary:\", predict_best(55, 30000))\n",
        "print(\"Older with High Salary:\", predict_best(55, 200000))"
      ],
      "metadata": {
        "id": "WFOMDCLw5ctJ"
      },
      "execution_count": null,
      "outputs": []
    },
    {
      "cell_type": "code",
      "source": [
        "##  Step 7: Lessons Learned\n",
        "# During this project, I learned how customer behavior can be modeled using machine learning techniques. I understood that data preprocessing and feature scaling significantly improve model performance. Comparing multiple algorithms revealed that not all models behave the same way on every dataset — some were prone to overfitting, while others generalized better.\n",
        "# Additionally, I learned that data visualization is not just an optional step but an important part of uncovering patterns hidden in the data. The predictions for various scenarios showed that both age and salary influence insurance purchase, but salary plays a slightly stronger role. This understanding can be used to design better-targeted policies and marketing strategies."
      ],
      "metadata": {
        "id": "xx3Ai7BE5igz"
      },
      "execution_count": null,
      "outputs": []
    },
    {
      "cell_type": "code",
      "source": [
        "##  Step 8: Real-Life Applications (Case Studies)\n",
        "## Case Study 1: Insurance Marketing Strategy\n",
        "# A health insurance company wants to target customers who are most likely to buy policies. By deploying a predictive model like the one built in this project, they can:\n",
        "\n",
        "# 1.Focus advertising on young professionals with disposable income.\n",
        "# 2.Reduce marketing costs by avoiding unlikely buyers.\n",
        "# 3.Increase sales efficiency by prioritizing high-potential leads.\n",
        "\n",
        "##Case Study 2: Personalized Premium Pricing\n",
        "# Another company uses predictive analytics to determine who is at risk of dropping out or not renewing insurance. With such models:\n",
        "\n",
        "# A.They adjust premium offers based on predicted behavior.\n",
        "# B.Provide loyalty benefits to high-risk customers.\n",
        "# C.Maintain long-term customer relationships by preventing churn."
      ],
      "metadata": {
        "id": "hjRcXh066WG_"
      },
      "execution_count": null,
      "outputs": []
    },
    {
      "cell_type": "code",
      "source": [
        "## Conclusion\n",
        "# - After comparing five algorithms, the best performing model was KNN.\n",
        "# - This model achieved an accuracy of 0.9250.\n",
        "# - The analysis shows that both salary and age influence purchase behavior, but in different ways: younger customers are dependent on  salary, while older customers tend to buy insurance regardless of salary levels.\n",
        "# - These insights can help insurance companies make better marketing and pricing decisions."
      ],
      "metadata": {
        "id": "EhExtdlT6aaC"
      },
      "execution_count": null,
      "outputs": []
    }
  ]
}